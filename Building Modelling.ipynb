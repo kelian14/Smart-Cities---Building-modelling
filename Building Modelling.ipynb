{
 "cells": [
  {
   "cell_type": "markdown",
   "id": "b73eb4a9",
   "metadata": {},
   "source": [
    "<br><img src=\"Grenoble INP - Ense3.png\" style=\"width:342px;height:131px\"/>\n",
    "<br>\n",
    " ---\n",
    " \n",
    " \n",
    "<h1><center>Dynamic Models for Building Energy Management</center></h1>\n",
    "<h3><center> Antonin ANDRÉ - Guillaume DAUENDORFFER - Emma HOAREAU - Kelian JAMBU</center></h3>\n",
    "\n",
    "---\n",
    "\n",
    "\n",
    "## 1) Model\n",
    "\n",
    "### Plan of a simple building\n",
    "\n",
    "Here is the building design we chose:\n",
    "\n",
    "<img src=\"Indoorair1.jpg\" style=\"width:351px;height:365px\"/>\n",
    "<i><center>Fig. 1 - Planview of the building</center></i>\n",
    "<br>\n",
    "We decided to model our building with two identical rooms separated by a common wall. Each room has 3 walls of 3m each and a window of 3m as well.\n",
    "\n",
    "\n",
    "### Hypothesis for boundary conditions, windows, doors, and wall composition.\n",
    "\n",
    "\n",
    "### Adjancy matrix A, the conductance matrix G and the capacity matrix C.\n",
    "\n",
    "\n",
    "## 2) Pyhton implementation: steady-state\n",
    "\n",
    "### Implementation of matrices A, G, and C.\n",
    "### Solar flows.\n",
    "### Input vectors b and f in time.\n",
    "### Steady-state response.\n"
   ]
  },
  {
   "cell_type": "code",
   "execution_count": null,
   "id": "29505261",
   "metadata": {},
   "outputs": [],
   "source": []
  },
  {
   "cell_type": "code",
   "execution_count": null,
   "id": "b35a0fe9",
   "metadata": {},
   "outputs": [],
   "source": []
  }
 ],
 "metadata": {
  "kernelspec": {
   "display_name": "Python 3 (ipykernel)",
   "language": "python",
   "name": "python3"
  },
  "language_info": {
   "codemirror_mode": {
    "name": "ipython",
    "version": 3
   },
   "file_extension": ".py",
   "mimetype": "text/x-python",
   "name": "python",
   "nbconvert_exporter": "python",
   "pygments_lexer": "ipython3",
   "version": "3.9.7"
  }
 },
 "nbformat": 4,
 "nbformat_minor": 5
}
